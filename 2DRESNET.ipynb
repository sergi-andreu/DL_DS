{
 "cells": [
  {
   "cell_type": "code",
   "execution_count": 1,
   "metadata": {},
   "outputs": [],
   "source": [
    "from tensorflow.keras.layers import Input, Dense, Add\n",
    "from tensorflow.keras.models import Model\n",
    "import numpy as np\n",
    "import matplotlib.pyplot as plt\n",
    "from tensorflow.python.keras.layers import Dense\n",
    "from tensorflow.python.keras import Sequential\n",
    "from mpl_toolkits.mplot3d import Axes3D\n",
    "\n",
    "\n",
    "act='tanh'\n",
    "nlayers=51\n",
    "nneurons1=2\n",
    "nneurons2=2\n",
    "\n",
    "\n",
    "input1 = Input(shape=(2,))\n",
    "x1 = Dense(nneurons1, activation=act)(input1)\n",
    "#x1 = Dense(nneurons1, activation=act)(x1)\n",
    "#x1 = Dense(nneurons1, activation=act)(x1)\n",
    "\n",
    "added = Add()([0.05*x1, input1])\n",
    "\n",
    "for i in range(nlayers-1):\n",
    "    x1 = Dense(nneurons1, activation=act)(added)\n",
    "    #x1 = Dense(nneurons2, activation=act)(x1)\n",
    "    #x1 = Dense(nneurons1, activation=act)(x1)\n",
    "    added = Add()([0.05*x1, added])\n",
    "\n",
    "\n",
    "    \n",
    "out = Dense(1, activation='sigmoid')(added)\n",
    "model = Model(inputs=[input1], outputs=out)\n",
    "\n",
    "\n",
    "\n",
    "def generatorringsgap(n, sp = 0.15, resnet=False):\n",
    "    \n",
    "    \n",
    "    import random\n",
    "    import numpy as np\n",
    "    \n",
    "    n2 = int(n/2)\n",
    "    \n",
    "    z = np.zeros((n,))\n",
    "    \n",
    "    r1 = np.array([(0.5-sp)*random.random() for i in range(n2)])\n",
    "    r2 = np.array([((0.5*random.random()+0.5)*(1-sp))+sp for i in range(n2)])\n",
    "    r = np.zeros((n,))\n",
    "    r[0:n2] = r1\n",
    "    r[n2::] = r2\n",
    "    z[n2::] = 1\n",
    "\n",
    "    theta = np.array([2*np.pi*random.random() for i in range(n)])\n",
    "    \n",
    "    x = np.multiply(np.cos(theta), r)\n",
    "    y = np.multiply(np.sin(theta), r)\n",
    "    \n",
    "    if resnet:\n",
    "        x = [x,y, np.zeros((n,))]\n",
    "    else:\n",
    "        x = [x,y]\n",
    "    \n",
    "    #x = np.transpose(x)\n",
    "    \n",
    "    return x, z\n",
    "\n",
    "\n",
    "def binarycolor(Z, c1, c2):\n",
    "    \n",
    "    import numpy as np\n",
    "    \n",
    "    Z = np.where(Z==0, c1, Z)\n",
    "    Z = np.where(Z=='1.0', c2, Z)\n",
    "    \n",
    "    return Z"
   ]
  },
  {
   "cell_type": "code",
   "execution_count": 2,
   "metadata": {},
   "outputs": [],
   "source": [
    "def spiral(npoints):\n",
    "    \n",
    "    sp = [[] for i in range(npoints)]\n",
    "    z = [0 for i in range(npoints)]\n",
    "    \n",
    "    import random\n",
    "    import numpy as np\n",
    "    \n",
    "    count = 0\n",
    "    \n",
    "    i=0\n",
    "    \n",
    "    while i < npoints:\n",
    "    \n",
    "\n",
    "        a = 1\n",
    "        b = -1\n",
    "        theta = 0.1 + random.random()\n",
    "        sgn = random.randint(0,1)\n",
    "\n",
    "        r = a + b*theta\n",
    "        \n",
    "        z[i] = sgn\n",
    "\n",
    "        \n",
    "        if sgn==0:\n",
    "            sp[i] = [ r*np.cos(6*theta), r*np.sin(6*theta)]\n",
    "        \n",
    "        if sgn==1:\n",
    "            sp[i] = [ -r*np.cos(6*theta), -r*np.sin(6*theta)]\n",
    "            \n",
    "        \n",
    "        if np.absolute(sp[i][0]) >=0.1 or np.absolute(sp[i][1]) >=0.1:\n",
    "            i = i+1\n",
    "            \n",
    "        \n",
    "    return np.transpose(np.array(sp)), np.array(z)\n",
    "    "
   ]
  },
  {
   "cell_type": "code",
   "execution_count": 3,
   "metadata": {},
   "outputs": [
    {
     "data": {
      "image/png": "[encoded data removed]",
      "text/plain": [
       "<Figure size 432x288 with 1 Axes>"
      ]
     },
     "metadata": {
      "needs_background": "light"
     },
     "output_type": "display_data"
    }
   ],
   "source": [
    "#RING, z = generatorringsgap(1000, resnet=False)\n",
    "RING, z = spiral(1000)\n",
    "fig = plt.figure()\n",
    "ax = fig.add_subplot(111)\n",
    "ax.set_aspect('equal', adjustable='box')\n",
    "ax.tick_params(direction='in', top=True, right=True)\n",
    "\n",
    "def binarycolor(Z, c1, c2):\n",
    "    \n",
    "    import numpy as np\n",
    "    \n",
    "    Z = np.where(Z==0, c1, Z)\n",
    "    Z = np.where(Z=='1', c2, Z)\n",
    "    \n",
    "    return Z\n",
    "\n",
    "\n",
    "plt.scatter(RING[0], RING[1], c=binarycolor(z, \"b\", \"y\"))\n",
    "#plt.scatter(RING[0], RING[1])\n",
    "model.compile(optimizer='sgd', loss='binary_crossentropy', metrics=['accuracy'])\n",
    "from sklearn.model_selection import train_test_split\n",
    "X_train, X_test, y_train, y_test = train_test_split(np.transpose(RING), z, test_size=0.5, random_state=0)\n",
    "plt.savefig(\"distribution.jpg\")"
   ]
  },
  {
   "cell_type": "code",
   "execution_count": 4,
   "metadata": {},
   "outputs": [
    {
     "data": {
      "text/plain": [
       "<tensorflow.python.keras.callbacks.History at 0x155d6dc3d30>"
      ]
     },
     "execution_count": 4,
     "metadata": {},
     "output_type": "execute_result"
    }
   ],
   "source": [
    "model.fit(X_train, y_train, epochs=15000, batch_size=50, verbose=0)"
   ]
  },
  {
   "cell_type": "code",
   "execution_count": 5,
   "metadata": {},
   "outputs": [
    {
     "data": {
      "image/png": "[encoded data removed]",
      "text/plain": [
       "<Figure size 432x288 with 1 Axes>"
      ]
     },
     "metadata": {
      "needs_background": "light"
     },
     "output_type": "display_data"
    }
   ],
   "source": [
    "\n",
    "zz = model.predict(np.transpose(RING)).reshape(1000,)\n",
    "\n",
    "\n",
    "from matplotlib import cm\n",
    "\n",
    "fig = plt.figure()\n",
    "ax = fig.add_subplot(111)\n",
    "ax.tick_params(direction='in', top=True, right=True)\n",
    "\n",
    "ax.scatter(RING[0], RING[1], c=binarycolor(z, \"b\", \"y\"))\n",
    "plt.show()"
   ]
  },
  {
   "cell_type": "code",
   "execution_count": 6,
   "metadata": {},
   "outputs": [],
   "source": [
    "from tensorflow.keras.models import Model\n",
    "from tensorflow.keras import models\n",
    "\n",
    "slope=3\n",
    "offset=0\n",
    "#offset=2\n",
    "iii=199\n",
    "\n",
    "jjj=000\n",
    "\n",
    "for iii in range(51):\n",
    "    fig = plt.figure()\n",
    "    ax = fig.add_subplot(111)\n",
    "    ax.tick_params(direction='in', top=True, right=True)\n",
    "    ax.grid(False)\n",
    "\n",
    "    # Hide axes ticks\n",
    "    ax.set_xticks([])\n",
    "    ax.set_yticks([])\n",
    "\n",
    "    #activation_model = models.Model(inputs=model.input, outputs=model.layers[j].output)\n",
    "    activation_model = models.Model(inputs=model.input, outputs=model.layers[slope*iii+offset].output)\n",
    "    activations = activation_model.predict(np.transpose(RING))\n",
    "    ax.scatter(np.transpose(activations)[0], np.transpose(activations)[1], c=binarycolor(z, \"b\", \"y\"))\n",
    "\n",
    "\n",
    "\n",
    "\n",
    "    grid_x = np.linspace(-1,1,10)\n",
    "    grid_y = np.linspace(-1,1,10)\n",
    "    grid_z = np.zeros((10,))\n",
    "\n",
    "\n",
    "\n",
    "    for i in range(10):\n",
    "\n",
    "        vector = []\n",
    "\n",
    "        for j in range(10):\n",
    "            vector.append([grid_x[i], grid_y[j]])\n",
    "\n",
    "        act = activation_model.predict(np.array(vector))                  \n",
    "        plt.plot(np.transpose(act)[0], np.transpose(act)[1], c=\"k\")\n",
    "\n",
    "    for i in range(10):\n",
    "\n",
    "        vector = []\n",
    "\n",
    "        for j in range(10):\n",
    "            vector.append([grid_x[j], grid_y[i]])\n",
    "\n",
    "        act = activation_model.predict(np.array(vector))                  \n",
    "        plt.plot(np.transpose(act)[0], np.transpose(act)[1],  c=\"k\")\n",
    "\n",
    "    ax.set_axis_off()\n",
    "    #ax.view_init(-30, 0)\n",
    "\n",
    "    plt.title(\"Hidden layer \"+str(iii))\n",
    "    #plt.savefig(\"2DRESNET/TANH_/im\"+str(iii).zfill(2)+\".png\",bbox_inches='tight')\n",
    "    plt.savefig(\"2DRESNET/SPIRAL/im\"+str(iii).zfill(2)+\".png\",bbox_inches='tight')\n",
    "\n",
    "    #plt.show()\n",
    "    plt.close(\"all\")"
   ]
  },
  {
   "cell_type": "code",
   "execution_count": 7,
   "metadata": {},
   "outputs": [],
   "source": [
    "import glob\n",
    "from PIL import Image\n",
    "\n",
    "h = 2\n",
    "# filepaths\n",
    "fp_in = \"2DRESNET/SPIRAL/*.png\"\n",
    "\n",
    "fp_out = \"gifs/2dbendingspiral\"+str(h)+\".gif\"\n",
    "\n",
    "# https://pillow.readthedocs.io/en/stable/handbook/image-file-formats.html#gif\n",
    "img, *imgs = [Image.open(f) for f in sorted(glob.glob(fp_in))]\n",
    "img.save(fp=fp_out, format='GIF', append_images=imgs,\n",
    "         save_all=True, duration=300, loop=0, quality=95)"
   ]
  },
  {
   "cell_type": "markdown",
   "metadata": {},
   "source": [
    "grid_x = np.linspace(-1,1,10)\n",
    "grid_y = np.linspace(-1,1,10)\n",
    "\n",
    "\n",
    "\n",
    "for i in range(10):\n",
    "    \n",
    "    vector = []\n",
    "    \n",
    "    for j in range(10):\n",
    "        vector.append([grid_x[i], grid_y[j]])\n",
    "    \n",
    "    act = activation_model.predict(np.array(vector))                  \n",
    "    plt.plot(np.transpose(act)[0], np.transpose(act)[1], c=\"k\")\n",
    "    \n",
    "for i in range(10):\n",
    "    \n",
    "    vector = []\n",
    "    \n",
    "    for j in range(10):\n",
    "        vector.append([grid_x[j], grid_y[i]])\n",
    "    \n",
    "    act = activation_model.predict(np.array(vector))                  \n",
    "    plt.plot(np.transpose(act)[0], np.transpose(act)[1], c=\"k\")\n",
    "\n",
    "\n",
    "        \n",
    "        "
   ]
  },
  {
   "cell_type": "markdown",
   "metadata": {},
   "source": [
    "print(activation_model.predict(np.array([[0,0], [1,1]])))"
   ]
  }
 ],
 "metadata": {
  "kernelspec": {
   "display_name": "Python 3",
   "language": "python",
   "name": "python3"
  },
  "language_info": {
   "codemirror_mode": {
    "name": "ipython",
    "version": 3
   },
   "file_extension": ".py",
   "mimetype": "text/x-python",
   "name": "python",
   "nbconvert_exporter": "python",
   "pygments_lexer": "ipython3",
   "version": "3.8.3"
  }
 },
 "nbformat": 4,
 "nbformat_minor": 4
}